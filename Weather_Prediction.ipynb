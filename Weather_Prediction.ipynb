{
  "nbformat": 4,
  "nbformat_minor": 0,
  "metadata": {
    "colab": {
      "name": "Weather Prediction.ipynb",
      "provenance": [],
      "collapsed_sections": []
    },
    "kernelspec": {
      "name": "python3",
      "display_name": "Python 3"
    },
    "language_info": {
      "name": "python"
    }
  },
  "cells": [
    {
      "cell_type": "code",
      "execution_count": 1,
      "metadata": {
        "id": "3Tbnm3khV3-8"
      },
      "outputs": [],
      "source": [
        "import numpy as np\n",
        "import pandas as pd\n",
        "import matplotlib.pyplot as plt\n",
        "import seaborn as sns"
      ]
    },
    {
      "cell_type": "markdown",
      "source": [
        "Install Packages"
      ],
      "metadata": {
        "id": "dhJFS9jpX4UU"
      }
    },
    {
      "cell_type": "markdown",
      "source": [
        "Next, the dataset for weather prediction in Subang Jaya, Malaysia is uploaded. This dataset was procured by the NASA Meteorological website, and the coordinates are:\n",
        "Latitude  3.039   Longitude 101.5963 \n",
        "\n",
        "This dataset contains the weather parameters in Subang Jaya from the Year 2020 until the Year 2021 (January 2020 - December 2021)."
      ],
      "metadata": {
        "id": "dARwJz_TX_5U"
      }
    },
    {
      "cell_type": "code",
      "source": [
        "from google.colab import files\n",
        "uploaded = files.upload()"
      ],
      "metadata": {
        "colab": {
          "resources": {
            "http://localhost:8080/nbextensions/google.colab/files.js": {
              "data": "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",
              "ok": true,
              "headers": [
                [
                  "content-type",
                  "application/javascript"
                ]
              ],
              "status": 200,
              "status_text": ""
            }
          },
          "base_uri": "https://localhost:8080/",
          "height": 73
        },
        "id": "WLBTW0tBYROn",
        "outputId": "b8e6aa90-4cb0-4efa-b629-33d1e91236cc"
      },
      "execution_count": 48,
      "outputs": [
        {
          "output_type": "display_data",
          "data": {
            "text/html": [
              "\n",
              "     <input type=\"file\" id=\"files-1b6f3d83-843e-48a0-9877-204b40c52586\" name=\"files[]\" multiple disabled\n",
              "        style=\"border:none\" />\n",
              "     <output id=\"result-1b6f3d83-843e-48a0-9877-204b40c52586\">\n",
              "      Upload widget is only available when the cell has been executed in the\n",
              "      current browser session. Please rerun this cell to enable.\n",
              "      </output>\n",
              "      <script src=\"/nbextensions/google.colab/files.js\"></script> "
            ],
            "text/plain": [
              "<IPython.core.display.HTML object>"
            ]
          },
          "metadata": {}
        },
        {
          "output_type": "stream",
          "name": "stdout",
          "text": [
            "Saving Weather_Subang.csv to Weather_Subang (2).csv\n"
          ]
        }
      ]
    },
    {
      "cell_type": "markdown",
      "source": [
        "Next, the dataset is read and described for EDA purposes"
      ],
      "metadata": {
        "id": "dLln3bySYZMb"
      }
    },
    {
      "cell_type": "code",
      "source": [
        "df = pd.read_csv('Weather_Subang (2).csv')"
      ],
      "metadata": {
        "id": "5TIKabGNZSoi"
      },
      "execution_count": 72,
      "outputs": []
    },
    {
      "cell_type": "code",
      "source": [
        "df.head()\n"
      ],
      "metadata": {
        "colab": {
          "base_uri": "https://localhost:8080/",
          "height": 270
        },
        "id": "Jzhekpi_Zass",
        "outputId": "d2b21c19-741e-4256-b17e-1fd08b31f040"
      },
      "execution_count": 73,
      "outputs": [
        {
          "output_type": "execute_result",
          "data": {
            "text/html": [
              "\n",
              "  <div id=\"df-81987da5-5998-444d-93f0-f1f9d13b697d\">\n",
              "    <div class=\"colab-df-container\">\n",
              "      <div>\n",
              "<style scoped>\n",
              "    .dataframe tbody tr th:only-of-type {\n",
              "        vertical-align: middle;\n",
              "    }\n",
              "\n",
              "    .dataframe tbody tr th {\n",
              "        vertical-align: top;\n",
              "    }\n",
              "\n",
              "    .dataframe thead th {\n",
              "        text-align: right;\n",
              "    }\n",
              "</style>\n",
              "<table border=\"1\" class=\"dataframe\">\n",
              "  <thead>\n",
              "    <tr style=\"text-align: right;\">\n",
              "      <th></th>\n",
              "      <th>YEAR</th>\n",
              "      <th>MO</th>\n",
              "      <th>DY</th>\n",
              "      <th>ALLSKY_SFC_SW_DWN</th>\n",
              "      <th>CLRSKY_SFC_SW_DWN</th>\n",
              "      <th>ALLSKY_KT</th>\n",
              "      <th>ALLSKY_NKT</th>\n",
              "      <th>T2M</th>\n",
              "      <th>T2MDEW</th>\n",
              "      <th>T2MWET</th>\n",
              "      <th>TS</th>\n",
              "      <th>T2M_RANGE</th>\n",
              "      <th>T2M_MAX</th>\n",
              "      <th>T2M_MIN</th>\n",
              "      <th>QV2M</th>\n",
              "      <th>RH2M</th>\n",
              "      <th>PRECTOTCORR</th>\n",
              "      <th>PS</th>\n",
              "      <th>WS10M</th>\n",
              "      <th>WD10M</th>\n",
              "      <th>WS50M_MAX</th>\n",
              "    </tr>\n",
              "  </thead>\n",
              "  <tbody>\n",
              "    <tr>\n",
              "      <th>0</th>\n",
              "      <td>2020</td>\n",
              "      <td>1</td>\n",
              "      <td>1</td>\n",
              "      <td>6.07</td>\n",
              "      <td>6.53</td>\n",
              "      <td>0.64</td>\n",
              "      <td>0.78</td>\n",
              "      <td>24.78</td>\n",
              "      <td>22.30</td>\n",
              "      <td>23.54</td>\n",
              "      <td>24.94</td>\n",
              "      <td>8.70</td>\n",
              "      <td>29.55</td>\n",
              "      <td>20.86</td>\n",
              "      <td>17.15</td>\n",
              "      <td>87.06</td>\n",
              "      <td>4.10</td>\n",
              "      <td>98.63</td>\n",
              "      <td>2.68</td>\n",
              "      <td>52.94</td>\n",
              "      <td>5.65</td>\n",
              "    </tr>\n",
              "    <tr>\n",
              "      <th>1</th>\n",
              "      <td>2020</td>\n",
              "      <td>1</td>\n",
              "      <td>2</td>\n",
              "      <td>4.40</td>\n",
              "      <td>6.31</td>\n",
              "      <td>0.46</td>\n",
              "      <td>0.57</td>\n",
              "      <td>24.96</td>\n",
              "      <td>22.86</td>\n",
              "      <td>23.91</td>\n",
              "      <td>25.10</td>\n",
              "      <td>8.38</td>\n",
              "      <td>29.80</td>\n",
              "      <td>21.42</td>\n",
              "      <td>17.76</td>\n",
              "      <td>88.94</td>\n",
              "      <td>7.73</td>\n",
              "      <td>98.69</td>\n",
              "      <td>2.45</td>\n",
              "      <td>51.69</td>\n",
              "      <td>5.87</td>\n",
              "    </tr>\n",
              "    <tr>\n",
              "      <th>2</th>\n",
              "      <td>2020</td>\n",
              "      <td>1</td>\n",
              "      <td>3</td>\n",
              "      <td>4.94</td>\n",
              "      <td>6.34</td>\n",
              "      <td>0.52</td>\n",
              "      <td>0.64</td>\n",
              "      <td>25.11</td>\n",
              "      <td>22.79</td>\n",
              "      <td>23.94</td>\n",
              "      <td>25.32</td>\n",
              "      <td>8.06</td>\n",
              "      <td>29.69</td>\n",
              "      <td>21.62</td>\n",
              "      <td>17.70</td>\n",
              "      <td>87.88</td>\n",
              "      <td>1.20</td>\n",
              "      <td>98.61</td>\n",
              "      <td>2.18</td>\n",
              "      <td>47.44</td>\n",
              "      <td>4.90</td>\n",
              "    </tr>\n",
              "    <tr>\n",
              "      <th>3</th>\n",
              "      <td>2020</td>\n",
              "      <td>1</td>\n",
              "      <td>4</td>\n",
              "      <td>5.37</td>\n",
              "      <td>6.43</td>\n",
              "      <td>0.56</td>\n",
              "      <td>0.70</td>\n",
              "      <td>25.06</td>\n",
              "      <td>22.57</td>\n",
              "      <td>23.82</td>\n",
              "      <td>25.28</td>\n",
              "      <td>8.12</td>\n",
              "      <td>29.80</td>\n",
              "      <td>21.69</td>\n",
              "      <td>17.46</td>\n",
              "      <td>87.06</td>\n",
              "      <td>0.04</td>\n",
              "      <td>98.44</td>\n",
              "      <td>2.34</td>\n",
              "      <td>46.88</td>\n",
              "      <td>5.41</td>\n",
              "    </tr>\n",
              "    <tr>\n",
              "      <th>4</th>\n",
              "      <td>2020</td>\n",
              "      <td>1</td>\n",
              "      <td>5</td>\n",
              "      <td>5.78</td>\n",
              "      <td>6.54</td>\n",
              "      <td>0.61</td>\n",
              "      <td>0.74</td>\n",
              "      <td>24.90</td>\n",
              "      <td>22.52</td>\n",
              "      <td>23.72</td>\n",
              "      <td>25.14</td>\n",
              "      <td>9.53</td>\n",
              "      <td>30.10</td>\n",
              "      <td>20.57</td>\n",
              "      <td>17.46</td>\n",
              "      <td>87.69</td>\n",
              "      <td>3.21</td>\n",
              "      <td>98.42</td>\n",
              "      <td>2.33</td>\n",
              "      <td>49.56</td>\n",
              "      <td>5.08</td>\n",
              "    </tr>\n",
              "  </tbody>\n",
              "</table>\n",
              "</div>\n",
              "      <button class=\"colab-df-convert\" onclick=\"convertToInteractive('df-81987da5-5998-444d-93f0-f1f9d13b697d')\"\n",
              "              title=\"Convert this dataframe to an interactive table.\"\n",
              "              style=\"display:none;\">\n",
              "        \n",
              "  <svg xmlns=\"http://www.w3.org/2000/svg\" height=\"24px\"viewBox=\"0 0 24 24\"\n",
              "       width=\"24px\">\n",
              "    <path d=\"M0 0h24v24H0V0z\" fill=\"none\"/>\n",
              "    <path d=\"M18.56 5.44l.94 2.06.94-2.06 2.06-.94-2.06-.94-.94-2.06-.94 2.06-2.06.94zm-11 1L8.5 8.5l.94-2.06 2.06-.94-2.06-.94L8.5 2.5l-.94 2.06-2.06.94zm10 10l.94 2.06.94-2.06 2.06-.94-2.06-.94-.94-2.06-.94 2.06-2.06.94z\"/><path d=\"M17.41 7.96l-1.37-1.37c-.4-.4-.92-.59-1.43-.59-.52 0-1.04.2-1.43.59L10.3 9.45l-7.72 7.72c-.78.78-.78 2.05 0 2.83L4 21.41c.39.39.9.59 1.41.59.51 0 1.02-.2 1.41-.59l7.78-7.78 2.81-2.81c.8-.78.8-2.07 0-2.86zM5.41 20L4 18.59l7.72-7.72 1.47 1.35L5.41 20z\"/>\n",
              "  </svg>\n",
              "      </button>\n",
              "      \n",
              "  <style>\n",
              "    .colab-df-container {\n",
              "      display:flex;\n",
              "      flex-wrap:wrap;\n",
              "      gap: 12px;\n",
              "    }\n",
              "\n",
              "    .colab-df-convert {\n",
              "      background-color: #E8F0FE;\n",
              "      border: none;\n",
              "      border-radius: 50%;\n",
              "      cursor: pointer;\n",
              "      display: none;\n",
              "      fill: #1967D2;\n",
              "      height: 32px;\n",
              "      padding: 0 0 0 0;\n",
              "      width: 32px;\n",
              "    }\n",
              "\n",
              "    .colab-df-convert:hover {\n",
              "      background-color: #E2EBFA;\n",
              "      box-shadow: 0px 1px 2px rgba(60, 64, 67, 0.3), 0px 1px 3px 1px rgba(60, 64, 67, 0.15);\n",
              "      fill: #174EA6;\n",
              "    }\n",
              "\n",
              "    [theme=dark] .colab-df-convert {\n",
              "      background-color: #3B4455;\n",
              "      fill: #D2E3FC;\n",
              "    }\n",
              "\n",
              "    [theme=dark] .colab-df-convert:hover {\n",
              "      background-color: #434B5C;\n",
              "      box-shadow: 0px 1px 3px 1px rgba(0, 0, 0, 0.15);\n",
              "      filter: drop-shadow(0px 1px 2px rgba(0, 0, 0, 0.3));\n",
              "      fill: #FFFFFF;\n",
              "    }\n",
              "  </style>\n",
              "\n",
              "      <script>\n",
              "        const buttonEl =\n",
              "          document.querySelector('#df-81987da5-5998-444d-93f0-f1f9d13b697d button.colab-df-convert');\n",
              "        buttonEl.style.display =\n",
              "          google.colab.kernel.accessAllowed ? 'block' : 'none';\n",
              "\n",
              "        async function convertToInteractive(key) {\n",
              "          const element = document.querySelector('#df-81987da5-5998-444d-93f0-f1f9d13b697d');\n",
              "          const dataTable =\n",
              "            await google.colab.kernel.invokeFunction('convertToInteractive',\n",
              "                                                     [key], {});\n",
              "          if (!dataTable) return;\n",
              "\n",
              "          const docLinkHtml = 'Like what you see? Visit the ' +\n",
              "            '<a target=\"_blank\" href=https://colab.research.google.com/notebooks/data_table.ipynb>data table notebook</a>'\n",
              "            + ' to learn more about interactive tables.';\n",
              "          element.innerHTML = '';\n",
              "          dataTable['output_type'] = 'display_data';\n",
              "          await google.colab.output.renderOutput(dataTable, element);\n",
              "          const docLink = document.createElement('div');\n",
              "          docLink.innerHTML = docLinkHtml;\n",
              "          element.appendChild(docLink);\n",
              "        }\n",
              "      </script>\n",
              "    </div>\n",
              "  </div>\n",
              "  "
            ],
            "text/plain": [
              "   YEAR  MO  DY  ALLSKY_SFC_SW_DWN  ...     PS  WS10M  WD10M  WS50M_MAX\n",
              "0  2020   1   1               6.07  ...  98.63   2.68  52.94       5.65\n",
              "1  2020   1   2               4.40  ...  98.69   2.45  51.69       5.87\n",
              "2  2020   1   3               4.94  ...  98.61   2.18  47.44       4.90\n",
              "3  2020   1   4               5.37  ...  98.44   2.34  46.88       5.41\n",
              "4  2020   1   5               5.78  ...  98.42   2.33  49.56       5.08\n",
              "\n",
              "[5 rows x 21 columns]"
            ]
          },
          "metadata": {},
          "execution_count": 73
        }
      ]
    },
    {
      "cell_type": "code",
      "source": [
        "df.describe()"
      ],
      "metadata": {
        "colab": {
          "base_uri": "https://localhost:8080/",
          "height": 364
        },
        "id": "bJaKuIcRZgdR",
        "outputId": "8828693d-8d59-4125-b895-f0de2361cf9a"
      },
      "execution_count": 51,
      "outputs": [
        {
          "output_type": "execute_result",
          "data": {
            "text/html": [
              "\n",
              "  <div id=\"df-7e924d34-a2ad-4e17-9584-aa18d364f66e\">\n",
              "    <div class=\"colab-df-container\">\n",
              "      <div>\n",
              "<style scoped>\n",
              "    .dataframe tbody tr th:only-of-type {\n",
              "        vertical-align: middle;\n",
              "    }\n",
              "\n",
              "    .dataframe tbody tr th {\n",
              "        vertical-align: top;\n",
              "    }\n",
              "\n",
              "    .dataframe thead th {\n",
              "        text-align: right;\n",
              "    }\n",
              "</style>\n",
              "<table border=\"1\" class=\"dataframe\">\n",
              "  <thead>\n",
              "    <tr style=\"text-align: right;\">\n",
              "      <th></th>\n",
              "      <th>YEAR</th>\n",
              "      <th>MO</th>\n",
              "      <th>DY</th>\n",
              "      <th>ALLSKY_SFC_SW_DWN</th>\n",
              "      <th>CLRSKY_SFC_SW_DWN</th>\n",
              "      <th>ALLSKY_KT</th>\n",
              "      <th>ALLSKY_NKT</th>\n",
              "      <th>T2M</th>\n",
              "      <th>T2MDEW</th>\n",
              "      <th>T2MWET</th>\n",
              "      <th>TS</th>\n",
              "      <th>T2M_RANGE</th>\n",
              "      <th>T2M_MAX</th>\n",
              "      <th>T2M_MIN</th>\n",
              "      <th>QV2M</th>\n",
              "      <th>RH2M</th>\n",
              "      <th>PRECTOTCORR</th>\n",
              "      <th>PS</th>\n",
              "      <th>WS10M</th>\n",
              "      <th>WD10M</th>\n",
              "      <th>WS50M_MAX</th>\n",
              "    </tr>\n",
              "  </thead>\n",
              "  <tbody>\n",
              "    <tr>\n",
              "      <th>count</th>\n",
              "      <td>731.000000</td>\n",
              "      <td>731.000000</td>\n",
              "      <td>731.000000</td>\n",
              "      <td>731.000000</td>\n",
              "      <td>731.000000</td>\n",
              "      <td>731.000000</td>\n",
              "      <td>731.000000</td>\n",
              "      <td>731.000000</td>\n",
              "      <td>731.000000</td>\n",
              "      <td>731.000000</td>\n",
              "      <td>731.000000</td>\n",
              "      <td>731.000000</td>\n",
              "      <td>731.000000</td>\n",
              "      <td>731.000000</td>\n",
              "      <td>731.000000</td>\n",
              "      <td>731.000000</td>\n",
              "      <td>731.000000</td>\n",
              "      <td>731.000000</td>\n",
              "      <td>731.000000</td>\n",
              "      <td>731.000000</td>\n",
              "      <td>731.000000</td>\n",
              "    </tr>\n",
              "    <tr>\n",
              "      <th>mean</th>\n",
              "      <td>2020.499316</td>\n",
              "      <td>6.519836</td>\n",
              "      <td>15.738714</td>\n",
              "      <td>-14.363899</td>\n",
              "      <td>-238.217729</td>\n",
              "      <td>-249.724227</td>\n",
              "      <td>-249.654473</td>\n",
              "      <td>25.621683</td>\n",
              "      <td>23.073830</td>\n",
              "      <td>24.347729</td>\n",
              "      <td>25.635937</td>\n",
              "      <td>6.862257</td>\n",
              "      <td>29.475089</td>\n",
              "      <td>22.612681</td>\n",
              "      <td>18.066990</td>\n",
              "      <td>86.724679</td>\n",
              "      <td>8.558837</td>\n",
              "      <td>98.325075</td>\n",
              "      <td>1.617592</td>\n",
              "      <td>158.996689</td>\n",
              "      <td>3.838413</td>\n",
              "    </tr>\n",
              "    <tr>\n",
              "      <th>std</th>\n",
              "      <td>0.500342</td>\n",
              "      <td>3.451913</td>\n",
              "      <td>8.809949</td>\n",
              "      <td>137.685431</td>\n",
              "      <td>431.921831</td>\n",
              "      <td>433.285565</td>\n",
              "      <td>433.325904</td>\n",
              "      <td>0.784317</td>\n",
              "      <td>0.734361</td>\n",
              "      <td>0.657350</td>\n",
              "      <td>0.789761</td>\n",
              "      <td>1.746851</td>\n",
              "      <td>1.380425</td>\n",
              "      <td>0.971135</td>\n",
              "      <td>0.801967</td>\n",
              "      <td>3.484988</td>\n",
              "      <td>14.530801</td>\n",
              "      <td>0.117187</td>\n",
              "      <td>0.444086</td>\n",
              "      <td>74.998799</td>\n",
              "      <td>0.911659</td>\n",
              "    </tr>\n",
              "    <tr>\n",
              "      <th>min</th>\n",
              "      <td>2020.000000</td>\n",
              "      <td>1.000000</td>\n",
              "      <td>1.000000</td>\n",
              "      <td>-999.000000</td>\n",
              "      <td>-999.000000</td>\n",
              "      <td>-999.000000</td>\n",
              "      <td>-999.000000</td>\n",
              "      <td>22.970000</td>\n",
              "      <td>19.480000</td>\n",
              "      <td>21.310000</td>\n",
              "      <td>23.080000</td>\n",
              "      <td>2.090000</td>\n",
              "      <td>25.370000</td>\n",
              "      <td>17.840000</td>\n",
              "      <td>14.470000</td>\n",
              "      <td>74.560000</td>\n",
              "      <td>0.000000</td>\n",
              "      <td>98.000000</td>\n",
              "      <td>0.610000</td>\n",
              "      <td>25.500000</td>\n",
              "      <td>1.390000</td>\n",
              "    </tr>\n",
              "    <tr>\n",
              "      <th>25%</th>\n",
              "      <td>2020.000000</td>\n",
              "      <td>4.000000</td>\n",
              "      <td>8.000000</td>\n",
              "      <td>4.290000</td>\n",
              "      <td>5.940000</td>\n",
              "      <td>-499.465000</td>\n",
              "      <td>-499.455000</td>\n",
              "      <td>25.105000</td>\n",
              "      <td>22.730000</td>\n",
              "      <td>23.980000</td>\n",
              "      <td>25.120000</td>\n",
              "      <td>5.655000</td>\n",
              "      <td>28.585000</td>\n",
              "      <td>22.155000</td>\n",
              "      <td>17.700000</td>\n",
              "      <td>84.500000</td>\n",
              "      <td>1.465000</td>\n",
              "      <td>98.250000</td>\n",
              "      <td>1.300000</td>\n",
              "      <td>91.220000</td>\n",
              "      <td>3.220000</td>\n",
              "    </tr>\n",
              "    <tr>\n",
              "      <th>50%</th>\n",
              "      <td>2020.000000</td>\n",
              "      <td>7.000000</td>\n",
              "      <td>16.000000</td>\n",
              "      <td>4.960000</td>\n",
              "      <td>6.520000</td>\n",
              "      <td>0.460000</td>\n",
              "      <td>0.550000</td>\n",
              "      <td>25.620000</td>\n",
              "      <td>23.120000</td>\n",
              "      <td>24.360000</td>\n",
              "      <td>25.600000</td>\n",
              "      <td>6.680000</td>\n",
              "      <td>29.510000</td>\n",
              "      <td>22.730000</td>\n",
              "      <td>18.130000</td>\n",
              "      <td>86.880000</td>\n",
              "      <td>4.520000</td>\n",
              "      <td>98.320000</td>\n",
              "      <td>1.600000</td>\n",
              "      <td>164.880000</td>\n",
              "      <td>3.710000</td>\n",
              "    </tr>\n",
              "    <tr>\n",
              "      <th>75%</th>\n",
              "      <td>2021.000000</td>\n",
              "      <td>10.000000</td>\n",
              "      <td>23.000000</td>\n",
              "      <td>5.540000</td>\n",
              "      <td>6.820000</td>\n",
              "      <td>0.530000</td>\n",
              "      <td>0.630000</td>\n",
              "      <td>26.085000</td>\n",
              "      <td>23.530000</td>\n",
              "      <td>24.755000</td>\n",
              "      <td>26.120000</td>\n",
              "      <td>7.970000</td>\n",
              "      <td>30.380000</td>\n",
              "      <td>23.225000</td>\n",
              "      <td>18.550000</td>\n",
              "      <td>89.090000</td>\n",
              "      <td>10.355000</td>\n",
              "      <td>98.410000</td>\n",
              "      <td>1.865000</td>\n",
              "      <td>214.750000</td>\n",
              "      <td>4.340000</td>\n",
              "    </tr>\n",
              "    <tr>\n",
              "      <th>max</th>\n",
              "      <td>2021.000000</td>\n",
              "      <td>12.000000</td>\n",
              "      <td>31.000000</td>\n",
              "      <td>7.300000</td>\n",
              "      <td>7.420000</td>\n",
              "      <td>0.710000</td>\n",
              "      <td>0.840000</td>\n",
              "      <td>27.770000</td>\n",
              "      <td>25.030000</td>\n",
              "      <td>26.080000</td>\n",
              "      <td>27.990000</td>\n",
              "      <td>12.250000</td>\n",
              "      <td>34.400000</td>\n",
              "      <td>24.830000</td>\n",
              "      <td>20.390000</td>\n",
              "      <td>96.120000</td>\n",
              "      <td>164.590000</td>\n",
              "      <td>98.690000</td>\n",
              "      <td>4.020000</td>\n",
              "      <td>318.120000</td>\n",
              "      <td>8.300000</td>\n",
              "    </tr>\n",
              "  </tbody>\n",
              "</table>\n",
              "</div>\n",
              "      <button class=\"colab-df-convert\" onclick=\"convertToInteractive('df-7e924d34-a2ad-4e17-9584-aa18d364f66e')\"\n",
              "              title=\"Convert this dataframe to an interactive table.\"\n",
              "              style=\"display:none;\">\n",
              "        \n",
              "  <svg xmlns=\"http://www.w3.org/2000/svg\" height=\"24px\"viewBox=\"0 0 24 24\"\n",
              "       width=\"24px\">\n",
              "    <path d=\"M0 0h24v24H0V0z\" fill=\"none\"/>\n",
              "    <path d=\"M18.56 5.44l.94 2.06.94-2.06 2.06-.94-2.06-.94-.94-2.06-.94 2.06-2.06.94zm-11 1L8.5 8.5l.94-2.06 2.06-.94-2.06-.94L8.5 2.5l-.94 2.06-2.06.94zm10 10l.94 2.06.94-2.06 2.06-.94-2.06-.94-.94-2.06-.94 2.06-2.06.94z\"/><path d=\"M17.41 7.96l-1.37-1.37c-.4-.4-.92-.59-1.43-.59-.52 0-1.04.2-1.43.59L10.3 9.45l-7.72 7.72c-.78.78-.78 2.05 0 2.83L4 21.41c.39.39.9.59 1.41.59.51 0 1.02-.2 1.41-.59l7.78-7.78 2.81-2.81c.8-.78.8-2.07 0-2.86zM5.41 20L4 18.59l7.72-7.72 1.47 1.35L5.41 20z\"/>\n",
              "  </svg>\n",
              "      </button>\n",
              "      \n",
              "  <style>\n",
              "    .colab-df-container {\n",
              "      display:flex;\n",
              "      flex-wrap:wrap;\n",
              "      gap: 12px;\n",
              "    }\n",
              "\n",
              "    .colab-df-convert {\n",
              "      background-color: #E8F0FE;\n",
              "      border: none;\n",
              "      border-radius: 50%;\n",
              "      cursor: pointer;\n",
              "      display: none;\n",
              "      fill: #1967D2;\n",
              "      height: 32px;\n",
              "      padding: 0 0 0 0;\n",
              "      width: 32px;\n",
              "    }\n",
              "\n",
              "    .colab-df-convert:hover {\n",
              "      background-color: #E2EBFA;\n",
              "      box-shadow: 0px 1px 2px rgba(60, 64, 67, 0.3), 0px 1px 3px 1px rgba(60, 64, 67, 0.15);\n",
              "      fill: #174EA6;\n",
              "    }\n",
              "\n",
              "    [theme=dark] .colab-df-convert {\n",
              "      background-color: #3B4455;\n",
              "      fill: #D2E3FC;\n",
              "    }\n",
              "\n",
              "    [theme=dark] .colab-df-convert:hover {\n",
              "      background-color: #434B5C;\n",
              "      box-shadow: 0px 1px 3px 1px rgba(0, 0, 0, 0.15);\n",
              "      filter: drop-shadow(0px 1px 2px rgba(0, 0, 0, 0.3));\n",
              "      fill: #FFFFFF;\n",
              "    }\n",
              "  </style>\n",
              "\n",
              "      <script>\n",
              "        const buttonEl =\n",
              "          document.querySelector('#df-7e924d34-a2ad-4e17-9584-aa18d364f66e button.colab-df-convert');\n",
              "        buttonEl.style.display =\n",
              "          google.colab.kernel.accessAllowed ? 'block' : 'none';\n",
              "\n",
              "        async function convertToInteractive(key) {\n",
              "          const element = document.querySelector('#df-7e924d34-a2ad-4e17-9584-aa18d364f66e');\n",
              "          const dataTable =\n",
              "            await google.colab.kernel.invokeFunction('convertToInteractive',\n",
              "                                                     [key], {});\n",
              "          if (!dataTable) return;\n",
              "\n",
              "          const docLinkHtml = 'Like what you see? Visit the ' +\n",
              "            '<a target=\"_blank\" href=https://colab.research.google.com/notebooks/data_table.ipynb>data table notebook</a>'\n",
              "            + ' to learn more about interactive tables.';\n",
              "          element.innerHTML = '';\n",
              "          dataTable['output_type'] = 'display_data';\n",
              "          await google.colab.output.renderOutput(dataTable, element);\n",
              "          const docLink = document.createElement('div');\n",
              "          docLink.innerHTML = docLinkHtml;\n",
              "          element.appendChild(docLink);\n",
              "        }\n",
              "      </script>\n",
              "    </div>\n",
              "  </div>\n",
              "  "
            ],
            "text/plain": [
              "              YEAR          MO          DY  ...       WS10M       WD10M   WS50M_MAX\n",
              "count   731.000000  731.000000  731.000000  ...  731.000000  731.000000  731.000000\n",
              "mean   2020.499316    6.519836   15.738714  ...    1.617592  158.996689    3.838413\n",
              "std       0.500342    3.451913    8.809949  ...    0.444086   74.998799    0.911659\n",
              "min    2020.000000    1.000000    1.000000  ...    0.610000   25.500000    1.390000\n",
              "25%    2020.000000    4.000000    8.000000  ...    1.300000   91.220000    3.220000\n",
              "50%    2020.000000    7.000000   16.000000  ...    1.600000  164.880000    3.710000\n",
              "75%    2021.000000   10.000000   23.000000  ...    1.865000  214.750000    4.340000\n",
              "max    2021.000000   12.000000   31.000000  ...    4.020000  318.120000    8.300000\n",
              "\n",
              "[8 rows x 21 columns]"
            ]
          },
          "metadata": {},
          "execution_count": 51
        }
      ]
    },
    {
      "cell_type": "markdown",
      "source": [
        "The headings for each columns have names that would be difficult to perform EDA and ML algorithms. Hence, the names of the columns would have to be changed."
      ],
      "metadata": {
        "id": "H46MNPcFZ9ax"
      }
    },
    {
      "cell_type": "code",
      "source": [
        "df.rename({'MO': 'Month', 'DY': 'Day', 'ALLSKY_SFC_SW_DWN': 'Irradiation','T2M' : 'Max Temp',\n",
        "           'T2MDEW': 'Dew Point Temp', 'RH2M': 'Relative Humidity', 'PRECTOTCORR': 'Precipitation', 'PS': 'Surface Pressure', \n",
        "           'WS10M': 'Wind Speed', '\tWD10M': 'Wind Direction','WS50M_MAX': 'Max Wind Speed' }, axis=1, inplace=True)"
      ],
      "metadata": {
        "id": "0B71eaqAaEPu"
      },
      "execution_count": 74,
      "outputs": []
    },
    {
      "cell_type": "code",
      "source": [
        "df.head()"
      ],
      "metadata": {
        "colab": {
          "base_uri": "https://localhost:8080/",
          "height": 305
        },
        "id": "5RuY7nbYbONP",
        "outputId": "6b2358aa-e447-4328-a11a-ec7cd0074f09"
      },
      "execution_count": 54,
      "outputs": [
        {
          "output_type": "execute_result",
          "data": {
            "text/html": [
              "\n",
              "  <div id=\"df-25ec7166-9291-4b51-b90b-9eedb3715740\">\n",
              "    <div class=\"colab-df-container\">\n",
              "      <div>\n",
              "<style scoped>\n",
              "    .dataframe tbody tr th:only-of-type {\n",
              "        vertical-align: middle;\n",
              "    }\n",
              "\n",
              "    .dataframe tbody tr th {\n",
              "        vertical-align: top;\n",
              "    }\n",
              "\n",
              "    .dataframe thead th {\n",
              "        text-align: right;\n",
              "    }\n",
              "</style>\n",
              "<table border=\"1\" class=\"dataframe\">\n",
              "  <thead>\n",
              "    <tr style=\"text-align: right;\">\n",
              "      <th></th>\n",
              "      <th>YEAR</th>\n",
              "      <th>Month</th>\n",
              "      <th>Day</th>\n",
              "      <th>Irradiation</th>\n",
              "      <th>CLRSKY_SFC_SW_DWN</th>\n",
              "      <th>ALLSKY_KT</th>\n",
              "      <th>ALLSKY_NKT</th>\n",
              "      <th>Max Temp</th>\n",
              "      <th>Dew Point Temp</th>\n",
              "      <th>T2MWET</th>\n",
              "      <th>TS</th>\n",
              "      <th>T2M_RANGE</th>\n",
              "      <th>T2M_MAX</th>\n",
              "      <th>T2M_MIN</th>\n",
              "      <th>QV2M</th>\n",
              "      <th>Relative Humidity</th>\n",
              "      <th>Precipitation</th>\n",
              "      <th>Surface Pressure</th>\n",
              "      <th>Wind Speed</th>\n",
              "      <th>WD10M</th>\n",
              "      <th>Max Wind Speed</th>\n",
              "    </tr>\n",
              "  </thead>\n",
              "  <tbody>\n",
              "    <tr>\n",
              "      <th>0</th>\n",
              "      <td>2020</td>\n",
              "      <td>1</td>\n",
              "      <td>1</td>\n",
              "      <td>6.07</td>\n",
              "      <td>6.53</td>\n",
              "      <td>0.64</td>\n",
              "      <td>0.78</td>\n",
              "      <td>24.78</td>\n",
              "      <td>22.30</td>\n",
              "      <td>23.54</td>\n",
              "      <td>24.94</td>\n",
              "      <td>8.70</td>\n",
              "      <td>29.55</td>\n",
              "      <td>20.86</td>\n",
              "      <td>17.15</td>\n",
              "      <td>87.06</td>\n",
              "      <td>4.10</td>\n",
              "      <td>98.63</td>\n",
              "      <td>2.68</td>\n",
              "      <td>52.94</td>\n",
              "      <td>5.65</td>\n",
              "    </tr>\n",
              "    <tr>\n",
              "      <th>1</th>\n",
              "      <td>2020</td>\n",
              "      <td>1</td>\n",
              "      <td>2</td>\n",
              "      <td>4.40</td>\n",
              "      <td>6.31</td>\n",
              "      <td>0.46</td>\n",
              "      <td>0.57</td>\n",
              "      <td>24.96</td>\n",
              "      <td>22.86</td>\n",
              "      <td>23.91</td>\n",
              "      <td>25.10</td>\n",
              "      <td>8.38</td>\n",
              "      <td>29.80</td>\n",
              "      <td>21.42</td>\n",
              "      <td>17.76</td>\n",
              "      <td>88.94</td>\n",
              "      <td>7.73</td>\n",
              "      <td>98.69</td>\n",
              "      <td>2.45</td>\n",
              "      <td>51.69</td>\n",
              "      <td>5.87</td>\n",
              "    </tr>\n",
              "    <tr>\n",
              "      <th>2</th>\n",
              "      <td>2020</td>\n",
              "      <td>1</td>\n",
              "      <td>3</td>\n",
              "      <td>4.94</td>\n",
              "      <td>6.34</td>\n",
              "      <td>0.52</td>\n",
              "      <td>0.64</td>\n",
              "      <td>25.11</td>\n",
              "      <td>22.79</td>\n",
              "      <td>23.94</td>\n",
              "      <td>25.32</td>\n",
              "      <td>8.06</td>\n",
              "      <td>29.69</td>\n",
              "      <td>21.62</td>\n",
              "      <td>17.70</td>\n",
              "      <td>87.88</td>\n",
              "      <td>1.20</td>\n",
              "      <td>98.61</td>\n",
              "      <td>2.18</td>\n",
              "      <td>47.44</td>\n",
              "      <td>4.90</td>\n",
              "    </tr>\n",
              "    <tr>\n",
              "      <th>3</th>\n",
              "      <td>2020</td>\n",
              "      <td>1</td>\n",
              "      <td>4</td>\n",
              "      <td>5.37</td>\n",
              "      <td>6.43</td>\n",
              "      <td>0.56</td>\n",
              "      <td>0.70</td>\n",
              "      <td>25.06</td>\n",
              "      <td>22.57</td>\n",
              "      <td>23.82</td>\n",
              "      <td>25.28</td>\n",
              "      <td>8.12</td>\n",
              "      <td>29.80</td>\n",
              "      <td>21.69</td>\n",
              "      <td>17.46</td>\n",
              "      <td>87.06</td>\n",
              "      <td>0.04</td>\n",
              "      <td>98.44</td>\n",
              "      <td>2.34</td>\n",
              "      <td>46.88</td>\n",
              "      <td>5.41</td>\n",
              "    </tr>\n",
              "    <tr>\n",
              "      <th>4</th>\n",
              "      <td>2020</td>\n",
              "      <td>1</td>\n",
              "      <td>5</td>\n",
              "      <td>5.78</td>\n",
              "      <td>6.54</td>\n",
              "      <td>0.61</td>\n",
              "      <td>0.74</td>\n",
              "      <td>24.90</td>\n",
              "      <td>22.52</td>\n",
              "      <td>23.72</td>\n",
              "      <td>25.14</td>\n",
              "      <td>9.53</td>\n",
              "      <td>30.10</td>\n",
              "      <td>20.57</td>\n",
              "      <td>17.46</td>\n",
              "      <td>87.69</td>\n",
              "      <td>3.21</td>\n",
              "      <td>98.42</td>\n",
              "      <td>2.33</td>\n",
              "      <td>49.56</td>\n",
              "      <td>5.08</td>\n",
              "    </tr>\n",
              "  </tbody>\n",
              "</table>\n",
              "</div>\n",
              "      <button class=\"colab-df-convert\" onclick=\"convertToInteractive('df-25ec7166-9291-4b51-b90b-9eedb3715740')\"\n",
              "              title=\"Convert this dataframe to an interactive table.\"\n",
              "              style=\"display:none;\">\n",
              "        \n",
              "  <svg xmlns=\"http://www.w3.org/2000/svg\" height=\"24px\"viewBox=\"0 0 24 24\"\n",
              "       width=\"24px\">\n",
              "    <path d=\"M0 0h24v24H0V0z\" fill=\"none\"/>\n",
              "    <path d=\"M18.56 5.44l.94 2.06.94-2.06 2.06-.94-2.06-.94-.94-2.06-.94 2.06-2.06.94zm-11 1L8.5 8.5l.94-2.06 2.06-.94-2.06-.94L8.5 2.5l-.94 2.06-2.06.94zm10 10l.94 2.06.94-2.06 2.06-.94-2.06-.94-.94-2.06-.94 2.06-2.06.94z\"/><path d=\"M17.41 7.96l-1.37-1.37c-.4-.4-.92-.59-1.43-.59-.52 0-1.04.2-1.43.59L10.3 9.45l-7.72 7.72c-.78.78-.78 2.05 0 2.83L4 21.41c.39.39.9.59 1.41.59.51 0 1.02-.2 1.41-.59l7.78-7.78 2.81-2.81c.8-.78.8-2.07 0-2.86zM5.41 20L4 18.59l7.72-7.72 1.47 1.35L5.41 20z\"/>\n",
              "  </svg>\n",
              "      </button>\n",
              "      \n",
              "  <style>\n",
              "    .colab-df-container {\n",
              "      display:flex;\n",
              "      flex-wrap:wrap;\n",
              "      gap: 12px;\n",
              "    }\n",
              "\n",
              "    .colab-df-convert {\n",
              "      background-color: #E8F0FE;\n",
              "      border: none;\n",
              "      border-radius: 50%;\n",
              "      cursor: pointer;\n",
              "      display: none;\n",
              "      fill: #1967D2;\n",
              "      height: 32px;\n",
              "      padding: 0 0 0 0;\n",
              "      width: 32px;\n",
              "    }\n",
              "\n",
              "    .colab-df-convert:hover {\n",
              "      background-color: #E2EBFA;\n",
              "      box-shadow: 0px 1px 2px rgba(60, 64, 67, 0.3), 0px 1px 3px 1px rgba(60, 64, 67, 0.15);\n",
              "      fill: #174EA6;\n",
              "    }\n",
              "\n",
              "    [theme=dark] .colab-df-convert {\n",
              "      background-color: #3B4455;\n",
              "      fill: #D2E3FC;\n",
              "    }\n",
              "\n",
              "    [theme=dark] .colab-df-convert:hover {\n",
              "      background-color: #434B5C;\n",
              "      box-shadow: 0px 1px 3px 1px rgba(0, 0, 0, 0.15);\n",
              "      filter: drop-shadow(0px 1px 2px rgba(0, 0, 0, 0.3));\n",
              "      fill: #FFFFFF;\n",
              "    }\n",
              "  </style>\n",
              "\n",
              "      <script>\n",
              "        const buttonEl =\n",
              "          document.querySelector('#df-25ec7166-9291-4b51-b90b-9eedb3715740 button.colab-df-convert');\n",
              "        buttonEl.style.display =\n",
              "          google.colab.kernel.accessAllowed ? 'block' : 'none';\n",
              "\n",
              "        async function convertToInteractive(key) {\n",
              "          const element = document.querySelector('#df-25ec7166-9291-4b51-b90b-9eedb3715740');\n",
              "          const dataTable =\n",
              "            await google.colab.kernel.invokeFunction('convertToInteractive',\n",
              "                                                     [key], {});\n",
              "          if (!dataTable) return;\n",
              "\n",
              "          const docLinkHtml = 'Like what you see? Visit the ' +\n",
              "            '<a target=\"_blank\" href=https://colab.research.google.com/notebooks/data_table.ipynb>data table notebook</a>'\n",
              "            + ' to learn more about interactive tables.';\n",
              "          element.innerHTML = '';\n",
              "          dataTable['output_type'] = 'display_data';\n",
              "          await google.colab.output.renderOutput(dataTable, element);\n",
              "          const docLink = document.createElement('div');\n",
              "          docLink.innerHTML = docLinkHtml;\n",
              "          element.appendChild(docLink);\n",
              "        }\n",
              "      </script>\n",
              "    </div>\n",
              "  </div>\n",
              "  "
            ],
            "text/plain": [
              "   YEAR  Month  Day  ...  Wind Speed  WD10M  Max Wind Speed\n",
              "0  2020      1    1  ...        2.68  52.94            5.65\n",
              "1  2020      1    2  ...        2.45  51.69            5.87\n",
              "2  2020      1    3  ...        2.18  47.44            4.90\n",
              "3  2020      1    4  ...        2.34  46.88            5.41\n",
              "4  2020      1    5  ...        2.33  49.56            5.08\n",
              "\n",
              "[5 rows x 21 columns]"
            ]
          },
          "metadata": {},
          "execution_count": 54
        }
      ]
    },
    {
      "cell_type": "markdown",
      "source": [
        "Certain columns that were not re-named are to be dropped, as these columns do not significantly affect the output of the dataset"
      ],
      "metadata": {
        "id": "ZmmflnvRbRG2"
      }
    },
    {
      "cell_type": "code",
      "source": [
        "df.drop(['CLRSKY_SFC_SW_DWN', 'ALLSKY_KT', 'ALLSKY_NKT', 'T2MWET' ,'TS', 'T2M_RANGE', 'T2M_MAX',\n",
        "        'T2M_MIN', 'QV2M','WD10M'], axis = 1, inplace = True)"
      ],
      "metadata": {
        "id": "PiyvDRRxbV_v"
      },
      "execution_count": 75,
      "outputs": []
    },
    {
      "cell_type": "markdown",
      "source": [
        "Now the dataframe df would look like the following once the columns were dropped:"
      ],
      "metadata": {
        "id": "LE7k29VYc4H2"
      }
    },
    {
      "cell_type": "code",
      "source": [
        "df.head(7)"
      ],
      "metadata": {
        "colab": {
          "base_uri": "https://localhost:8080/",
          "height": 269
        },
        "id": "v9SaAahFc7tG",
        "outputId": "ed2e5b2d-f6ff-4c73-8286-1a2354389a2f"
      },
      "execution_count": 76,
      "outputs": [
        {
          "output_type": "execute_result",
          "data": {
            "text/html": [
              "\n",
              "  <div id=\"df-534a6ff4-0ea2-4c4d-8de2-46f86563028c\">\n",
              "    <div class=\"colab-df-container\">\n",
              "      <div>\n",
              "<style scoped>\n",
              "    .dataframe tbody tr th:only-of-type {\n",
              "        vertical-align: middle;\n",
              "    }\n",
              "\n",
              "    .dataframe tbody tr th {\n",
              "        vertical-align: top;\n",
              "    }\n",
              "\n",
              "    .dataframe thead th {\n",
              "        text-align: right;\n",
              "    }\n",
              "</style>\n",
              "<table border=\"1\" class=\"dataframe\">\n",
              "  <thead>\n",
              "    <tr style=\"text-align: right;\">\n",
              "      <th></th>\n",
              "      <th>YEAR</th>\n",
              "      <th>Month</th>\n",
              "      <th>Day</th>\n",
              "      <th>Irradiation</th>\n",
              "      <th>Max Temp</th>\n",
              "      <th>Dew Point Temp</th>\n",
              "      <th>Relative Humidity</th>\n",
              "      <th>Precipitation</th>\n",
              "      <th>Surface Pressure</th>\n",
              "      <th>Wind Speed</th>\n",
              "      <th>Max Wind Speed</th>\n",
              "    </tr>\n",
              "  </thead>\n",
              "  <tbody>\n",
              "    <tr>\n",
              "      <th>0</th>\n",
              "      <td>2020</td>\n",
              "      <td>1</td>\n",
              "      <td>1</td>\n",
              "      <td>6.07</td>\n",
              "      <td>24.78</td>\n",
              "      <td>22.30</td>\n",
              "      <td>87.06</td>\n",
              "      <td>4.10</td>\n",
              "      <td>98.63</td>\n",
              "      <td>2.68</td>\n",
              "      <td>5.65</td>\n",
              "    </tr>\n",
              "    <tr>\n",
              "      <th>1</th>\n",
              "      <td>2020</td>\n",
              "      <td>1</td>\n",
              "      <td>2</td>\n",
              "      <td>4.40</td>\n",
              "      <td>24.96</td>\n",
              "      <td>22.86</td>\n",
              "      <td>88.94</td>\n",
              "      <td>7.73</td>\n",
              "      <td>98.69</td>\n",
              "      <td>2.45</td>\n",
              "      <td>5.87</td>\n",
              "    </tr>\n",
              "    <tr>\n",
              "      <th>2</th>\n",
              "      <td>2020</td>\n",
              "      <td>1</td>\n",
              "      <td>3</td>\n",
              "      <td>4.94</td>\n",
              "      <td>25.11</td>\n",
              "      <td>22.79</td>\n",
              "      <td>87.88</td>\n",
              "      <td>1.20</td>\n",
              "      <td>98.61</td>\n",
              "      <td>2.18</td>\n",
              "      <td>4.90</td>\n",
              "    </tr>\n",
              "    <tr>\n",
              "      <th>3</th>\n",
              "      <td>2020</td>\n",
              "      <td>1</td>\n",
              "      <td>4</td>\n",
              "      <td>5.37</td>\n",
              "      <td>25.06</td>\n",
              "      <td>22.57</td>\n",
              "      <td>87.06</td>\n",
              "      <td>0.04</td>\n",
              "      <td>98.44</td>\n",
              "      <td>2.34</td>\n",
              "      <td>5.41</td>\n",
              "    </tr>\n",
              "    <tr>\n",
              "      <th>4</th>\n",
              "      <td>2020</td>\n",
              "      <td>1</td>\n",
              "      <td>5</td>\n",
              "      <td>5.78</td>\n",
              "      <td>24.90</td>\n",
              "      <td>22.52</td>\n",
              "      <td>87.69</td>\n",
              "      <td>3.21</td>\n",
              "      <td>98.42</td>\n",
              "      <td>2.33</td>\n",
              "      <td>5.08</td>\n",
              "    </tr>\n",
              "    <tr>\n",
              "      <th>5</th>\n",
              "      <td>2020</td>\n",
              "      <td>1</td>\n",
              "      <td>6</td>\n",
              "      <td>5.28</td>\n",
              "      <td>25.10</td>\n",
              "      <td>22.30</td>\n",
              "      <td>85.75</td>\n",
              "      <td>2.00</td>\n",
              "      <td>98.47</td>\n",
              "      <td>1.67</td>\n",
              "      <td>4.42</td>\n",
              "    </tr>\n",
              "    <tr>\n",
              "      <th>6</th>\n",
              "      <td>2020</td>\n",
              "      <td>1</td>\n",
              "      <td>7</td>\n",
              "      <td>5.92</td>\n",
              "      <td>25.33</td>\n",
              "      <td>22.63</td>\n",
              "      <td>86.00</td>\n",
              "      <td>0.18</td>\n",
              "      <td>98.39</td>\n",
              "      <td>1.73</td>\n",
              "      <td>3.86</td>\n",
              "    </tr>\n",
              "  </tbody>\n",
              "</table>\n",
              "</div>\n",
              "      <button class=\"colab-df-convert\" onclick=\"convertToInteractive('df-534a6ff4-0ea2-4c4d-8de2-46f86563028c')\"\n",
              "              title=\"Convert this dataframe to an interactive table.\"\n",
              "              style=\"display:none;\">\n",
              "        \n",
              "  <svg xmlns=\"http://www.w3.org/2000/svg\" height=\"24px\"viewBox=\"0 0 24 24\"\n",
              "       width=\"24px\">\n",
              "    <path d=\"M0 0h24v24H0V0z\" fill=\"none\"/>\n",
              "    <path d=\"M18.56 5.44l.94 2.06.94-2.06 2.06-.94-2.06-.94-.94-2.06-.94 2.06-2.06.94zm-11 1L8.5 8.5l.94-2.06 2.06-.94-2.06-.94L8.5 2.5l-.94 2.06-2.06.94zm10 10l.94 2.06.94-2.06 2.06-.94-2.06-.94-.94-2.06-.94 2.06-2.06.94z\"/><path d=\"M17.41 7.96l-1.37-1.37c-.4-.4-.92-.59-1.43-.59-.52 0-1.04.2-1.43.59L10.3 9.45l-7.72 7.72c-.78.78-.78 2.05 0 2.83L4 21.41c.39.39.9.59 1.41.59.51 0 1.02-.2 1.41-.59l7.78-7.78 2.81-2.81c.8-.78.8-2.07 0-2.86zM5.41 20L4 18.59l7.72-7.72 1.47 1.35L5.41 20z\"/>\n",
              "  </svg>\n",
              "      </button>\n",
              "      \n",
              "  <style>\n",
              "    .colab-df-container {\n",
              "      display:flex;\n",
              "      flex-wrap:wrap;\n",
              "      gap: 12px;\n",
              "    }\n",
              "\n",
              "    .colab-df-convert {\n",
              "      background-color: #E8F0FE;\n",
              "      border: none;\n",
              "      border-radius: 50%;\n",
              "      cursor: pointer;\n",
              "      display: none;\n",
              "      fill: #1967D2;\n",
              "      height: 32px;\n",
              "      padding: 0 0 0 0;\n",
              "      width: 32px;\n",
              "    }\n",
              "\n",
              "    .colab-df-convert:hover {\n",
              "      background-color: #E2EBFA;\n",
              "      box-shadow: 0px 1px 2px rgba(60, 64, 67, 0.3), 0px 1px 3px 1px rgba(60, 64, 67, 0.15);\n",
              "      fill: #174EA6;\n",
              "    }\n",
              "\n",
              "    [theme=dark] .colab-df-convert {\n",
              "      background-color: #3B4455;\n",
              "      fill: #D2E3FC;\n",
              "    }\n",
              "\n",
              "    [theme=dark] .colab-df-convert:hover {\n",
              "      background-color: #434B5C;\n",
              "      box-shadow: 0px 1px 3px 1px rgba(0, 0, 0, 0.15);\n",
              "      filter: drop-shadow(0px 1px 2px rgba(0, 0, 0, 0.3));\n",
              "      fill: #FFFFFF;\n",
              "    }\n",
              "  </style>\n",
              "\n",
              "      <script>\n",
              "        const buttonEl =\n",
              "          document.querySelector('#df-534a6ff4-0ea2-4c4d-8de2-46f86563028c button.colab-df-convert');\n",
              "        buttonEl.style.display =\n",
              "          google.colab.kernel.accessAllowed ? 'block' : 'none';\n",
              "\n",
              "        async function convertToInteractive(key) {\n",
              "          const element = document.querySelector('#df-534a6ff4-0ea2-4c4d-8de2-46f86563028c');\n",
              "          const dataTable =\n",
              "            await google.colab.kernel.invokeFunction('convertToInteractive',\n",
              "                                                     [key], {});\n",
              "          if (!dataTable) return;\n",
              "\n",
              "          const docLinkHtml = 'Like what you see? Visit the ' +\n",
              "            '<a target=\"_blank\" href=https://colab.research.google.com/notebooks/data_table.ipynb>data table notebook</a>'\n",
              "            + ' to learn more about interactive tables.';\n",
              "          element.innerHTML = '';\n",
              "          dataTable['output_type'] = 'display_data';\n",
              "          await google.colab.output.renderOutput(dataTable, element);\n",
              "          const docLink = document.createElement('div');\n",
              "          docLink.innerHTML = docLinkHtml;\n",
              "          element.appendChild(docLink);\n",
              "        }\n",
              "      </script>\n",
              "    </div>\n",
              "  </div>\n",
              "  "
            ],
            "text/plain": [
              "   YEAR  Month  Day  ...  Surface Pressure  Wind Speed  Max Wind Speed\n",
              "0  2020      1    1  ...             98.63        2.68            5.65\n",
              "1  2020      1    2  ...             98.69        2.45            5.87\n",
              "2  2020      1    3  ...             98.61        2.18            4.90\n",
              "3  2020      1    4  ...             98.44        2.34            5.41\n",
              "4  2020      1    5  ...             98.42        2.33            5.08\n",
              "5  2020      1    6  ...             98.47        1.67            4.42\n",
              "6  2020      1    7  ...             98.39        1.73            3.86\n",
              "\n",
              "[7 rows x 11 columns]"
            ]
          },
          "metadata": {},
          "execution_count": 76
        }
      ]
    },
    {
      "cell_type": "markdown",
      "source": [
        "Next, null values in the dataset is checked, after checking the type of data in 'df'"
      ],
      "metadata": {
        "id": "9RS4iFUJdEMc"
      }
    },
    {
      "cell_type": "code",
      "source": [
        "df.info()"
      ],
      "metadata": {
        "colab": {
          "base_uri": "https://localhost:8080/"
        },
        "id": "obfjwimRdJ1A",
        "outputId": "2f1fe7b6-a66a-4d19-ab12-b636b9041f11"
      },
      "execution_count": 77,
      "outputs": [
        {
          "output_type": "stream",
          "name": "stdout",
          "text": [
            "<class 'pandas.core.frame.DataFrame'>\n",
            "RangeIndex: 731 entries, 0 to 730\n",
            "Data columns (total 11 columns):\n",
            " #   Column             Non-Null Count  Dtype  \n",
            "---  ------             --------------  -----  \n",
            " 0   YEAR               731 non-null    int64  \n",
            " 1   Month              731 non-null    int64  \n",
            " 2   Day                731 non-null    int64  \n",
            " 3   Irradiation        731 non-null    float64\n",
            " 4   Max Temp           731 non-null    float64\n",
            " 5   Dew Point Temp     731 non-null    float64\n",
            " 6   Relative Humidity  731 non-null    float64\n",
            " 7   Precipitation      731 non-null    float64\n",
            " 8   Surface Pressure   731 non-null    float64\n",
            " 9   Wind Speed         731 non-null    float64\n",
            " 10  Max Wind Speed     731 non-null    float64\n",
            "dtypes: float64(8), int64(3)\n",
            "memory usage: 62.9 KB\n"
          ]
        }
      ]
    },
    {
      "cell_type": "markdown",
      "source": [
        "As all of the variables are integer or float, all the variables in the dataset are continuous variables"
      ],
      "metadata": {
        "id": "7L7N8aT_d7fe"
      }
    },
    {
      "cell_type": "code",
      "source": [
        "df.isnull().sum()"
      ],
      "metadata": {
        "colab": {
          "base_uri": "https://localhost:8080/"
        },
        "id": "TfTCLbQbeAZ5",
        "outputId": "a72b746c-da2f-49cc-8f35-2488ee55a941"
      },
      "execution_count": 78,
      "outputs": [
        {
          "output_type": "execute_result",
          "data": {
            "text/plain": [
              "YEAR                 0\n",
              "Month                0\n",
              "Day                  0\n",
              "Irradiation          0\n",
              "Max Temp             0\n",
              "Dew Point Temp       0\n",
              "Relative Humidity    0\n",
              "Precipitation        0\n",
              "Surface Pressure     0\n",
              "Wind Speed           0\n",
              "Max Wind Speed       0\n",
              "dtype: int64"
            ]
          },
          "metadata": {},
          "execution_count": 78
        }
      ]
    },
    {
      "cell_type": "markdown",
      "source": [
        "There were no missing values in the dataset. Hence, EDA can be performed on the dataset"
      ],
      "metadata": {
        "id": "wedScu68eI-s"
      }
    },
    {
      "cell_type": "markdown",
      "source": [
        "However, Month should be a categorical variable, and must be converted as such."
      ],
      "metadata": {
        "id": "XfA4QZ_Rgpyj"
      }
    },
    {
      "cell_type": "code",
      "source": [
        "import calendar\n",
        "df['Month'] = df['Month'].apply(lambda x: calendar.month_name[x])"
      ],
      "metadata": {
        "id": "vg3ViD-6kuQE"
      },
      "execution_count": 79,
      "outputs": []
    },
    {
      "cell_type": "code",
      "source": [
        "plt.hist(df['Precipitation'])"
      ],
      "metadata": {
        "colab": {
          "base_uri": "https://localhost:8080/",
          "height": 335
        },
        "id": "2WjgrMWGejSv",
        "outputId": "8e7f8d5e-e42c-4715-ab6f-c42d8aa63392"
      },
      "execution_count": 80,
      "outputs": [
        {
          "output_type": "execute_result",
          "data": {
            "text/plain": [
              "(array([641.,  61.,  16.,   6.,   3.,   0.,   0.,   0.,   3.,   1.]),\n",
              " array([  0.   ,  16.459,  32.918,  49.377,  65.836,  82.295,  98.754,\n",
              "        115.213, 131.672, 148.131, 164.59 ]),\n",
              " <a list of 10 Patch objects>)"
            ]
          },
          "metadata": {},
          "execution_count": 80
        },
        {
          "output_type": "display_data",
          "data": {
            "image/png": "[encoded data removed]",
            "text/plain": [
              "<Figure size 432x288 with 1 Axes>"
            ]
          },
          "metadata": {
            "needs_background": "light"
          }
        }
      ]
    },
    {
      "cell_type": "code",
      "source": [
        "f = plt.figure(figsize=(14,6))\n",
        "ax = f.add_subplot(121)\n",
        "sns.violinplot(x='Precipitation', y='Month',data=df,palette='Wistia',ax=ax)\n",
        "ax.set_title('Precipitation vs Month')\n"
      ],
      "metadata": {
        "colab": {
          "base_uri": "https://localhost:8080/",
          "height": 421
        },
        "id": "xdytR0bEe4C9",
        "outputId": "4b2e74ee-11e8-418d-ab8b-d16d128441dc"
      },
      "execution_count": 81,
      "outputs": [
        {
          "output_type": "execute_result",
          "data": {
            "text/plain": [
              "Text(0.5, 1.0, 'Precipitation vs Month')"
            ]
          },
          "metadata": {},
          "execution_count": 81
        },
        {
          "output_type": "display_data",
          "data": {
            "image/png": "[encoded data removed]",
            "text/plain": [
              "<Figure size 1008x432 with 1 Axes>"
            ]
          },
          "metadata": {
            "needs_background": "light"
          }
        }
      ]
    },
    {
      "cell_type": "code",
      "source": [
        "sns.swarmplot(x=\"Precipitation\", y=\"Month\", hue=\"YEAR\", data=df, palette=\"PRGn\")\n",
        "plt.show()"
      ],
      "metadata": {
        "colab": {
          "base_uri": "https://localhost:8080/",
          "height": 681
        },
        "id": "wmeh4FqbrQz7",
        "outputId": "5c7dfd09-a652-4ccc-82de-7f9033ba98d6"
      },
      "execution_count": 82,
      "outputs": [
        {
          "output_type": "stream",
          "name": "stderr",
          "text": [
            "/usr/local/lib/python3.7/dist-packages/seaborn/categorical.py:1296: UserWarning: 66.1% of the points cannot be placed; you may want to decrease the size of the markers or use stripplot.\n",
            "  warnings.warn(msg, UserWarning)\n",
            "/usr/local/lib/python3.7/dist-packages/seaborn/categorical.py:1296: UserWarning: 73.7% of the points cannot be placed; you may want to decrease the size of the markers or use stripplot.\n",
            "  warnings.warn(msg, UserWarning)\n",
            "/usr/local/lib/python3.7/dist-packages/seaborn/categorical.py:1296: UserWarning: 59.7% of the points cannot be placed; you may want to decrease the size of the markers or use stripplot.\n",
            "  warnings.warn(msg, UserWarning)\n",
            "/usr/local/lib/python3.7/dist-packages/seaborn/categorical.py:1296: UserWarning: 58.3% of the points cannot be placed; you may want to decrease the size of the markers or use stripplot.\n",
            "  warnings.warn(msg, UserWarning)\n",
            "/usr/local/lib/python3.7/dist-packages/seaborn/categorical.py:1296: UserWarning: 62.9% of the points cannot be placed; you may want to decrease the size of the markers or use stripplot.\n",
            "  warnings.warn(msg, UserWarning)\n",
            "/usr/local/lib/python3.7/dist-packages/seaborn/categorical.py:1296: UserWarning: 68.3% of the points cannot be placed; you may want to decrease the size of the markers or use stripplot.\n",
            "  warnings.warn(msg, UserWarning)\n",
            "/usr/local/lib/python3.7/dist-packages/seaborn/categorical.py:1296: UserWarning: 72.6% of the points cannot be placed; you may want to decrease the size of the markers or use stripplot.\n",
            "  warnings.warn(msg, UserWarning)\n",
            "/usr/local/lib/python3.7/dist-packages/seaborn/categorical.py:1296: UserWarning: 63.3% of the points cannot be placed; you may want to decrease the size of the markers or use stripplot.\n",
            "  warnings.warn(msg, UserWarning)\n",
            "/usr/local/lib/python3.7/dist-packages/seaborn/categorical.py:1296: UserWarning: 64.5% of the points cannot be placed; you may want to decrease the size of the markers or use stripplot.\n",
            "  warnings.warn(msg, UserWarning)\n",
            "/usr/local/lib/python3.7/dist-packages/seaborn/categorical.py:1296: UserWarning: 45.0% of the points cannot be placed; you may want to decrease the size of the markers or use stripplot.\n",
            "  warnings.warn(msg, UserWarning)\n",
            "/usr/local/lib/python3.7/dist-packages/seaborn/categorical.py:1296: UserWarning: 56.5% of the points cannot be placed; you may want to decrease the size of the markers or use stripplot.\n",
            "  warnings.warn(msg, UserWarning)\n"
          ]
        },
        {
          "output_type": "display_data",
          "data": {
            "image/png": "[encoded data removed]",
            "text/plain": [
              "<Figure size 432x288 with 1 Axes>"
            ]
          },
          "metadata": {
            "needs_background": "light"
          }
        }
      ]
    },
    {
      "cell_type": "markdown",
      "source": [
        "The data for Precipitation has a few outliers, and this can be due to the unpredictable rainfall in Malaysia."
      ],
      "metadata": {
        "id": "cIRAJUg6rVjA"
      }
    },
    {
      "cell_type": "markdown",
      "source": [
        "Next, a correlation map is produced to see the correlation between each variables. Since the target variable is Precipitation, all other variables that are correlated with Precipitation are studied."
      ],
      "metadata": {
        "id": "ughhq8jFr816"
      }
    },
    {
      "cell_type": "code",
      "source": [
        "corr = df.corr()\n",
        "sns.heatmap(corr, cmap = 'Wistia', annot= True);"
      ],
      "metadata": {
        "colab": {
          "base_uri": "https://localhost:8080/",
          "height": 348
        },
        "id": "V1zjxbIHsFCD",
        "outputId": "7d8eb7b4-529f-4467-ee17-c92111320f32"
      },
      "execution_count": 83,
      "outputs": [
        {
          "output_type": "display_data",
          "data": {
            "image/png": "[encoded data removed]",
            "text/plain": [
              "<Figure size 432x288 with 2 Axes>"
            ]
          },
          "metadata": {
            "needs_background": "light"
          }
        }
      ]
    },
    {
      "cell_type": "markdown",
      "source": [
        "The variables that correlate with Precipitation are:\n",
        "\n",
        "1. Surface Pressure\n",
        "2. Relative Humidity\n",
        "3. Dew Point Temperature\n",
        "4. Irradiation\n",
        "\n",
        "Although the values for correlation are < 0.5, these values are still considered for the final weather prediction."
      ],
      "metadata": {
        "id": "OwvK63qSuj6t"
      }
    },
    {
      "cell_type": "code",
      "source": [
        "from sklearn import linear_model\n",
        "x=df[['Surface Pressure', 'Relative Humidity', 'Dew Point Temp', 'Irradiation']]\n",
        "y=df[\"Precipitation\"]"
      ],
      "metadata": {
        "id": "LU2I0__7vx4i"
      },
      "execution_count": 86,
      "outputs": []
    },
    {
      "cell_type": "markdown",
      "source": [
        "Linear Regression is used to predict Precipitation, based on the variables above."
      ],
      "metadata": {
        "id": "t6qbDuooxIzi"
      }
    },
    {
      "cell_type": "code",
      "source": [
        "regr = linear_model.LinearRegression()\n",
        "regr.fit(x, y)"
      ],
      "metadata": {
        "colab": {
          "base_uri": "https://localhost:8080/"
        },
        "id": "feHg54qnxCdb",
        "outputId": "e8b864c1-7941-48b0-8508-b2ccea6689b1"
      },
      "execution_count": 87,
      "outputs": [
        {
          "output_type": "execute_result",
          "data": {
            "text/plain": [
              "LinearRegression()"
            ]
          },
          "metadata": {},
          "execution_count": 87
        }
      ]
    },
    {
      "cell_type": "code",
      "source": [
        "predictedPREC = regr.predict([[98,87,22,3]])\n",
        "print(predictedPREC)"
      ],
      "metadata": {
        "colab": {
          "base_uri": "https://localhost:8080/"
        },
        "id": "6bZ3JI2sxNWQ",
        "outputId": "d39e0e19-ad61-43e6-a271-60566de84553"
      },
      "execution_count": 89,
      "outputs": [
        {
          "output_type": "stream",
          "name": "stdout",
          "text": [
            "[12.84779509]\n"
          ]
        },
        {
          "output_type": "stream",
          "name": "stderr",
          "text": [
            "/usr/local/lib/python3.7/dist-packages/sklearn/base.py:451: UserWarning: X does not have valid feature names, but LinearRegression was fitted with feature names\n",
            "  \"X does not have valid feature names, but\"\n"
          ]
        }
      ]
    },
    {
      "cell_type": "markdown",
      "source": [
        "Random values were entered from the above. However, using the following table from the \"describe\" function of the dataframe, predicted values can be computed"
      ],
      "metadata": {
        "id": "RixNZJBGxnwG"
      }
    },
    {
      "cell_type": "code",
      "source": [
        "df.describe()"
      ],
      "metadata": {
        "colab": {
          "base_uri": "https://localhost:8080/",
          "height": 344
        },
        "id": "ZPDkJJy6xvK4",
        "outputId": "075406b0-cf61-423c-92dd-796eab3079a4"
      },
      "execution_count": 90,
      "outputs": [
        {
          "output_type": "execute_result",
          "data": {
            "text/html": [
              "\n",
              "  <div id=\"df-77cd686d-9894-42e2-9cf8-25d87fbd32c1\">\n",
              "    <div class=\"colab-df-container\">\n",
              "      <div>\n",
              "<style scoped>\n",
              "    .dataframe tbody tr th:only-of-type {\n",
              "        vertical-align: middle;\n",
              "    }\n",
              "\n",
              "    .dataframe tbody tr th {\n",
              "        vertical-align: top;\n",
              "    }\n",
              "\n",
              "    .dataframe thead th {\n",
              "        text-align: right;\n",
              "    }\n",
              "</style>\n",
              "<table border=\"1\" class=\"dataframe\">\n",
              "  <thead>\n",
              "    <tr style=\"text-align: right;\">\n",
              "      <th></th>\n",
              "      <th>YEAR</th>\n",
              "      <th>Day</th>\n",
              "      <th>Irradiation</th>\n",
              "      <th>Max Temp</th>\n",
              "      <th>Dew Point Temp</th>\n",
              "      <th>Relative Humidity</th>\n",
              "      <th>Precipitation</th>\n",
              "      <th>Surface Pressure</th>\n",
              "      <th>Wind Speed</th>\n",
              "      <th>Max Wind Speed</th>\n",
              "    </tr>\n",
              "  </thead>\n",
              "  <tbody>\n",
              "    <tr>\n",
              "      <th>count</th>\n",
              "      <td>731.000000</td>\n",
              "      <td>731.000000</td>\n",
              "      <td>731.000000</td>\n",
              "      <td>731.000000</td>\n",
              "      <td>731.000000</td>\n",
              "      <td>731.000000</td>\n",
              "      <td>731.000000</td>\n",
              "      <td>731.000000</td>\n",
              "      <td>731.000000</td>\n",
              "      <td>731.000000</td>\n",
              "    </tr>\n",
              "    <tr>\n",
              "      <th>mean</th>\n",
              "      <td>2020.499316</td>\n",
              "      <td>15.738714</td>\n",
              "      <td>-14.363899</td>\n",
              "      <td>25.621683</td>\n",
              "      <td>23.073830</td>\n",
              "      <td>86.724679</td>\n",
              "      <td>8.558837</td>\n",
              "      <td>98.325075</td>\n",
              "      <td>1.617592</td>\n",
              "      <td>3.838413</td>\n",
              "    </tr>\n",
              "    <tr>\n",
              "      <th>std</th>\n",
              "      <td>0.500342</td>\n",
              "      <td>8.809949</td>\n",
              "      <td>137.685431</td>\n",
              "      <td>0.784317</td>\n",
              "      <td>0.734361</td>\n",
              "      <td>3.484988</td>\n",
              "      <td>14.530801</td>\n",
              "      <td>0.117187</td>\n",
              "      <td>0.444086</td>\n",
              "      <td>0.911659</td>\n",
              "    </tr>\n",
              "    <tr>\n",
              "      <th>min</th>\n",
              "      <td>2020.000000</td>\n",
              "      <td>1.000000</td>\n",
              "      <td>-999.000000</td>\n",
              "      <td>22.970000</td>\n",
              "      <td>19.480000</td>\n",
              "      <td>74.560000</td>\n",
              "      <td>0.000000</td>\n",
              "      <td>98.000000</td>\n",
              "      <td>0.610000</td>\n",
              "      <td>1.390000</td>\n",
              "    </tr>\n",
              "    <tr>\n",
              "      <th>25%</th>\n",
              "      <td>2020.000000</td>\n",
              "      <td>8.000000</td>\n",
              "      <td>4.290000</td>\n",
              "      <td>25.105000</td>\n",
              "      <td>22.730000</td>\n",
              "      <td>84.500000</td>\n",
              "      <td>1.465000</td>\n",
              "      <td>98.250000</td>\n",
              "      <td>1.300000</td>\n",
              "      <td>3.220000</td>\n",
              "    </tr>\n",
              "    <tr>\n",
              "      <th>50%</th>\n",
              "      <td>2020.000000</td>\n",
              "      <td>16.000000</td>\n",
              "      <td>4.960000</td>\n",
              "      <td>25.620000</td>\n",
              "      <td>23.120000</td>\n",
              "      <td>86.880000</td>\n",
              "      <td>4.520000</td>\n",
              "      <td>98.320000</td>\n",
              "      <td>1.600000</td>\n",
              "      <td>3.710000</td>\n",
              "    </tr>\n",
              "    <tr>\n",
              "      <th>75%</th>\n",
              "      <td>2021.000000</td>\n",
              "      <td>23.000000</td>\n",
              "      <td>5.540000</td>\n",
              "      <td>26.085000</td>\n",
              "      <td>23.530000</td>\n",
              "      <td>89.090000</td>\n",
              "      <td>10.355000</td>\n",
              "      <td>98.410000</td>\n",
              "      <td>1.865000</td>\n",
              "      <td>4.340000</td>\n",
              "    </tr>\n",
              "    <tr>\n",
              "      <th>max</th>\n",
              "      <td>2021.000000</td>\n",
              "      <td>31.000000</td>\n",
              "      <td>7.300000</td>\n",
              "      <td>27.770000</td>\n",
              "      <td>25.030000</td>\n",
              "      <td>96.120000</td>\n",
              "      <td>164.590000</td>\n",
              "      <td>98.690000</td>\n",
              "      <td>4.020000</td>\n",
              "      <td>8.300000</td>\n",
              "    </tr>\n",
              "  </tbody>\n",
              "</table>\n",
              "</div>\n",
              "      <button class=\"colab-df-convert\" onclick=\"convertToInteractive('df-77cd686d-9894-42e2-9cf8-25d87fbd32c1')\"\n",
              "              title=\"Convert this dataframe to an interactive table.\"\n",
              "              style=\"display:none;\">\n",
              "        \n",
              "  <svg xmlns=\"http://www.w3.org/2000/svg\" height=\"24px\"viewBox=\"0 0 24 24\"\n",
              "       width=\"24px\">\n",
              "    <path d=\"M0 0h24v24H0V0z\" fill=\"none\"/>\n",
              "    <path d=\"M18.56 5.44l.94 2.06.94-2.06 2.06-.94-2.06-.94-.94-2.06-.94 2.06-2.06.94zm-11 1L8.5 8.5l.94-2.06 2.06-.94-2.06-.94L8.5 2.5l-.94 2.06-2.06.94zm10 10l.94 2.06.94-2.06 2.06-.94-2.06-.94-.94-2.06-.94 2.06-2.06.94z\"/><path d=\"M17.41 7.96l-1.37-1.37c-.4-.4-.92-.59-1.43-.59-.52 0-1.04.2-1.43.59L10.3 9.45l-7.72 7.72c-.78.78-.78 2.05 0 2.83L4 21.41c.39.39.9.59 1.41.59.51 0 1.02-.2 1.41-.59l7.78-7.78 2.81-2.81c.8-.78.8-2.07 0-2.86zM5.41 20L4 18.59l7.72-7.72 1.47 1.35L5.41 20z\"/>\n",
              "  </svg>\n",
              "      </button>\n",
              "      \n",
              "  <style>\n",
              "    .colab-df-container {\n",
              "      display:flex;\n",
              "      flex-wrap:wrap;\n",
              "      gap: 12px;\n",
              "    }\n",
              "\n",
              "    .colab-df-convert {\n",
              "      background-color: #E8F0FE;\n",
              "      border: none;\n",
              "      border-radius: 50%;\n",
              "      cursor: pointer;\n",
              "      display: none;\n",
              "      fill: #1967D2;\n",
              "      height: 32px;\n",
              "      padding: 0 0 0 0;\n",
              "      width: 32px;\n",
              "    }\n",
              "\n",
              "    .colab-df-convert:hover {\n",
              "      background-color: #E2EBFA;\n",
              "      box-shadow: 0px 1px 2px rgba(60, 64, 67, 0.3), 0px 1px 3px 1px rgba(60, 64, 67, 0.15);\n",
              "      fill: #174EA6;\n",
              "    }\n",
              "\n",
              "    [theme=dark] .colab-df-convert {\n",
              "      background-color: #3B4455;\n",
              "      fill: #D2E3FC;\n",
              "    }\n",
              "\n",
              "    [theme=dark] .colab-df-convert:hover {\n",
              "      background-color: #434B5C;\n",
              "      box-shadow: 0px 1px 3px 1px rgba(0, 0, 0, 0.15);\n",
              "      filter: drop-shadow(0px 1px 2px rgba(0, 0, 0, 0.3));\n",
              "      fill: #FFFFFF;\n",
              "    }\n",
              "  </style>\n",
              "\n",
              "      <script>\n",
              "        const buttonEl =\n",
              "          document.querySelector('#df-77cd686d-9894-42e2-9cf8-25d87fbd32c1 button.colab-df-convert');\n",
              "        buttonEl.style.display =\n",
              "          google.colab.kernel.accessAllowed ? 'block' : 'none';\n",
              "\n",
              "        async function convertToInteractive(key) {\n",
              "          const element = document.querySelector('#df-77cd686d-9894-42e2-9cf8-25d87fbd32c1');\n",
              "          const dataTable =\n",
              "            await google.colab.kernel.invokeFunction('convertToInteractive',\n",
              "                                                     [key], {});\n",
              "          if (!dataTable) return;\n",
              "\n",
              "          const docLinkHtml = 'Like what you see? Visit the ' +\n",
              "            '<a target=\"_blank\" href=https://colab.research.google.com/notebooks/data_table.ipynb>data table notebook</a>'\n",
              "            + ' to learn more about interactive tables.';\n",
              "          element.innerHTML = '';\n",
              "          dataTable['output_type'] = 'display_data';\n",
              "          await google.colab.output.renderOutput(dataTable, element);\n",
              "          const docLink = document.createElement('div');\n",
              "          docLink.innerHTML = docLinkHtml;\n",
              "          element.appendChild(docLink);\n",
              "        }\n",
              "      </script>\n",
              "    </div>\n",
              "  </div>\n",
              "  "
            ],
            "text/plain": [
              "              YEAR         Day  ...  Wind Speed  Max Wind Speed\n",
              "count   731.000000  731.000000  ...  731.000000      731.000000\n",
              "mean   2020.499316   15.738714  ...    1.617592        3.838413\n",
              "std       0.500342    8.809949  ...    0.444086        0.911659\n",
              "min    2020.000000    1.000000  ...    0.610000        1.390000\n",
              "25%    2020.000000    8.000000  ...    1.300000        3.220000\n",
              "50%    2020.000000   16.000000  ...    1.600000        3.710000\n",
              "75%    2021.000000   23.000000  ...    1.865000        4.340000\n",
              "max    2021.000000   31.000000  ...    4.020000        8.300000\n",
              "\n",
              "[8 rows x 10 columns]"
            ]
          },
          "metadata": {},
          "execution_count": 90
        }
      ]
    },
    {
      "cell_type": "code",
      "source": [
        "predictedPREC = regr.predict([[98.32,86.72,23.07,-14.36]]) #Mean values\n",
        "print(predictedPREC)"
      ],
      "metadata": {
        "colab": {
          "base_uri": "https://localhost:8080/"
        },
        "id": "4rsRcPUHx0zM",
        "outputId": "420a57fa-9f18-4e6f-b594-0189b3d9bcdf"
      },
      "execution_count": 91,
      "outputs": [
        {
          "output_type": "stream",
          "name": "stdout",
          "text": [
            "[8.61562732]\n"
          ]
        },
        {
          "output_type": "stream",
          "name": "stderr",
          "text": [
            "/usr/local/lib/python3.7/dist-packages/sklearn/base.py:451: UserWarning: X does not have valid feature names, but LinearRegression was fitted with feature names\n",
            "  \"X does not have valid feature names, but\"\n"
          ]
        }
      ]
    },
    {
      "cell_type": "code",
      "source": [
        "predictedPREC = regr.predict([[98.32,86.88,23.12,4.96]]) #Median values\n",
        "print(predictedPREC)"
      ],
      "metadata": {
        "colab": {
          "base_uri": "https://localhost:8080/"
        },
        "id": "BbrvbSwsyKBo",
        "outputId": "1fdc40e3-beb4-4d84-9367-a9ba16ec3aa6"
      },
      "execution_count": 92,
      "outputs": [
        {
          "output_type": "stream",
          "name": "stdout",
          "text": [
            "[8.97957039]\n"
          ]
        },
        {
          "output_type": "stream",
          "name": "stderr",
          "text": [
            "/usr/local/lib/python3.7/dist-packages/sklearn/base.py:451: UserWarning: X does not have valid feature names, but LinearRegression was fitted with feature names\n",
            "  \"X does not have valid feature names, but\"\n"
          ]
        }
      ]
    },
    {
      "cell_type": "code",
      "source": [
        "predictedPREC = regr.predict([[98.69,96.12,25.03,7.3]]) #75% values\n",
        "print(predictedPREC)"
      ],
      "metadata": {
        "colab": {
          "base_uri": "https://localhost:8080/"
        },
        "id": "Vy0z4BTLy3kr",
        "outputId": "4bd4d8c5-a7a4-4e7d-ecb9-78f340f5abd7"
      },
      "execution_count": 93,
      "outputs": [
        {
          "output_type": "stream",
          "name": "stdout",
          "text": [
            "[19.13391676]\n"
          ]
        },
        {
          "output_type": "stream",
          "name": "stderr",
          "text": [
            "/usr/local/lib/python3.7/dist-packages/sklearn/base.py:451: UserWarning: X does not have valid feature names, but LinearRegression was fitted with feature names\n",
            "  \"X does not have valid feature names, but\"\n"
          ]
        }
      ]
    },
    {
      "cell_type": "code",
      "source": [
        "predictedPREC = regr.predict([[98.41,89.09,23.53,5.54]]) #75% values\n",
        "print(predictedPREC)"
      ],
      "metadata": {
        "colab": {
          "base_uri": "https://localhost:8080/"
        },
        "id": "Q6JJyal9zU_A",
        "outputId": "0071cd58-c2c6-484f-e573-6d509fd8112b"
      },
      "execution_count": 94,
      "outputs": [
        {
          "output_type": "stream",
          "name": "stdout",
          "text": [
            "[11.3709646]\n"
          ]
        },
        {
          "output_type": "stream",
          "name": "stderr",
          "text": [
            "/usr/local/lib/python3.7/dist-packages/sklearn/base.py:451: UserWarning: X does not have valid feature names, but LinearRegression was fitted with feature names\n",
            "  \"X does not have valid feature names, but\"\n"
          ]
        }
      ]
    },
    {
      "cell_type": "markdown",
      "source": [
        "The values of the predictedPREC match the values in the dataset. Hence, this linear regression equation can be used to predict rainfall in Subang Jaya, Malaysia; based on the dependent variables in the equation."
      ],
      "metadata": {
        "id": "euumx2e9ze6i"
      }
    }
  ]
}